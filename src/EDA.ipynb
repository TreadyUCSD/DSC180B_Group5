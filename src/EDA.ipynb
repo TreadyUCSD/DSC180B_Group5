{
 "cells": [
  {
   "cell_type": "code",
   "execution_count": 1,
   "id": "b668ffae-d2cc-4e51-854e-ee7ed751e8e9",
   "metadata": {},
   "outputs": [],
   "source": [
    "import numpy as np\n",
    "import pandas as pd\n",
    "import os\n",
    "from tabulate import tabulate"
   ]
  },
  {
   "cell_type": "code",
   "execution_count": 2,
   "id": "e6f629ca-d79d-4d7e-a82e-285d28485b37",
   "metadata": {},
   "outputs": [],
   "source": [
    "sublist = ['alltheleft', 'AmericanPolitics', 'Anarchism', 'anarchist', 'AnarchoPacifism', \n",
    "            'blackflag',  'capitalism', 'communist', 'Conservative', 'conservatives', \n",
    "            'conspiracy', 'democracy', 'democrats', 'greenparty', 'Liberal', 'Libertarian',\n",
    "            'LibertarianSocialism', 'Liberty', 'moderatepolitics', 'neoprogs', 'politics', \n",
    "            'progressive','republicanism', 'Republican', 'republicans', 'socialdemocracy',\n",
    "            'socialism', 'uspolitics']"
   ]
  },
  {
   "cell_type": "markdown",
   "id": "e4de9383-9498-43c0-aaf5-5ca5adf6da9e",
   "metadata": {},
   "source": [
    "## Posts Summary Stats"
   ]
  },
  {
   "cell_type": "code",
   "execution_count": null,
   "id": "738d3c3a-88f5-4902-9b81-9f63b3d7293a",
   "metadata": {},
   "outputs": [],
   "source": [
    "# move to data dir\n",
    "os.chdir('..')\n",
    "os.chdir('..')\n",
    "cur_dir = os.getcwd()\n",
    "os.chdir(cur_dir + '/data')"
   ]
  },
  {
   "cell_type": "code",
   "execution_count": null,
   "id": "22e3e312-2255-4238-9506-a196c18fb1c7",
   "metadata": {},
   "outputs": [],
   "source": [
    "# extract stats, save in dictionary\n",
    "subs = []\n",
    "num = []\n",
    "per_users = []\n",
    "num_users_10 = []\n",
    "avg_score = []\n",
    "\n",
    "for sub in sublist:\n",
    "    df = pd.read_json(sub + '_posts.jsonl', lines=True, orient='records')\n",
    "    \n",
    "    subs.append('r/' + sub)\n",
    "    num.append(len(df))\n",
    "    users = df.groupby('author').count()\n",
    "    per = round((len(users)/len(df) * 100), 1)\n",
    "    per_users.append(per)\n",
    "    num_users_10.append(len(users[users.subreddit >= 10]))\n",
    "    score = round(np.mean(df.score), 1)\n",
    "    avg_score.append(score)\n",
    "    \n",
    "dic = {'Subreddit': subs, \n",
    "       'Number of Posts': num, \n",
    "       'Percentage of Unique Users': per_users, \n",
    "       'Number of Users w/ >10 Posts': num_users_10, \n",
    "       'Average Post Sore': avg_score}"
   ]
  },
  {
   "cell_type": "code",
   "execution_count": null,
   "id": "ec17dd07-2efa-4c06-82cf-98bee07e84a1",
   "metadata": {},
   "outputs": [],
   "source": [
    "# move to src, save output as csv\n",
    "os.chdir('..')\n",
    "cur_dir = os.getcwd()\n",
    "os.chdir(cur_dir + '/DSC180B_Group5/src')\n",
    "\n",
    "df_posts = pd.DataFrame(dic)\n",
    "df_posts.to_csv('eda_posts.csv')"
   ]
  },
  {
   "cell_type": "markdown",
   "id": "dd8edeac-6d49-4164-ae44-4fd64fc5cc3c",
   "metadata": {},
   "source": [
    "## Comments Summary Stats"
   ]
  },
  {
   "cell_type": "code",
   "execution_count": null,
   "id": "b60fb423-a0a4-4aca-abab-a56be4edc6dc",
   "metadata": {},
   "outputs": [],
   "source": [
    "# move to data dir\n",
    "os.chdir('..')\n",
    "os.chdir('..')\n",
    "cur_dir = os.getcwd()\n",
    "os.chdir(cur_dir + '/data')"
   ]
  },
  {
   "cell_type": "code",
   "execution_count": null,
   "id": "612f6af4-cbb0-4723-bb3c-69bf42e99cf7",
   "metadata": {},
   "outputs": [],
   "source": [
    "# number of comments, average length of comments, average # comments per post\n",
    "\n",
    "# extract stats, save in dictionary\n",
    "subs = []\n",
    "num = []\n",
    "avg_num_per_post = []\n",
    "avg_len = []\n",
    "per_comments = []\n",
    "\n",
    "for sub in sublist:\n",
    "    df = pd.read_csv(sub + '_comments.csv')\n",
    "    \n",
    "    subs.append(sub)\n",
    "    num.append(len(df))\n",
    "    avg_num = np.mean(df.groupby('full_link').count().comment)\n",
    "    avg_num_per_post.append(round(avg_num, 1))\n",
    "    avg_len_t = np.mean(df.comment.apply(lambda x: len(str(x).split(' '))))\n",
    "    avg_len.append(round(avg_len_t, 1))\n",
    "    total = df_posts[df_posts.Subreddit == ('r/'+sub)]['Number of Posts'] \n",
    "    per = (len(df)/total).values[0] * 100\n",
    "    per_comments.append(round(per, 1))\n",
    "    \n",
    "\n",
    "dic = {'Subreddit': subs, \n",
    "       'Number of Top-Level Comments': num,\n",
    "       'Percentage of Posts with Comments': per_comments,\n",
    "       'Average Comment Length (Words)': avg_len, \n",
    "       'Average # Comments per Post': avg_num_per_post}"
   ]
  },
  {
   "cell_type": "code",
   "execution_count": null,
   "id": "81eba25e-e2e6-44ce-a4ad-de0f9b186cdc",
   "metadata": {},
   "outputs": [],
   "source": [
    "# move to src, save output as csv\n",
    "os.chdir('..')\n",
    "cur_dir = os.getcwd()\n",
    "os.chdir(cur_dir + '/DSC180B_Group5/src')\n",
    "\n",
    "df_comments = pd.DataFrame(dic)\n",
    "df_comments.to_csv('eda_comments.csv')"
   ]
  },
  {
   "cell_type": "code",
   "execution_count": null,
   "id": "cffe849b-bfca-479e-ae7e-a8ce3d78b7b6",
   "metadata": {},
   "outputs": [],
   "source": []
  },
  {
   "cell_type": "code",
   "execution_count": null,
   "id": "3cd3fbf0-1352-4563-872e-aacb032ff5ce",
   "metadata": {},
   "outputs": [],
   "source": []
  }
 ],
 "metadata": {
  "kernelspec": {
   "display_name": "Python 3 (ipykernel)",
   "language": "python",
   "name": "python3"
  },
  "language_info": {
   "codemirror_mode": {
    "name": "ipython",
    "version": 3
   },
   "file_extension": ".py",
   "mimetype": "text/x-python",
   "name": "python",
   "nbconvert_exporter": "python",
   "pygments_lexer": "ipython3",
   "version": "3.9.7"
  }
 },
 "nbformat": 4,
 "nbformat_minor": 5
}
