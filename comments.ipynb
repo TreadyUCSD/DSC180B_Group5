{
 "cells": [
  {
   "cell_type": "code",
   "execution_count": 1,
   "id": "6f5c0309-737f-46aa-a9ad-04430834d4c3",
   "metadata": {},
   "outputs": [],
   "source": [
    "#!/usr/bin/python\n",
    "\n",
    "import pandas as pd\n",
    "import json\n",
    "import os\n",
    "import sys\n",
    "import praw\n",
    "import numpy as np\n",
    "import itertools\n",
    "\n",
    "# reddit api authorization\n",
    "\n",
    "reddit = praw.Reddit(\n",
    "    user_agent=\"Comment Extraction\",\n",
    "    client_id=\"T5Bw73pLWfu6AB-XSbgL9w\",\n",
    "    client_secret=\"FS4nDQl1e0FRLNZGW8MksOixcdlznA\"\n",
    ")\n",
    "\n",
    "# get top level comments from link \n",
    "\n",
    "def get_comments(full_link):\n",
    "    submission = reddit.submission(url=full_link)\n",
    "    submission.comments.replace_more()\n",
    "    bodies = [comment.body for comment in submission.comments]\n",
    "    return bodies"
   ]
  },
  {
   "cell_type": "code",
   "execution_count": 2,
   "id": "2de2ecb0-8b24-453a-86b8-049defd6e0eb",
   "metadata": {},
   "outputs": [],
   "source": [
    "targets = ['test2']"
   ]
  },
  {
   "cell_type": "code",
   "execution_count": 3,
   "id": "532744aa-f4d8-4a8a-aad5-6da5a7393342",
   "metadata": {},
   "outputs": [
    {
     "name": "stdout",
     "output_type": "stream",
     "text": [
      "here\n",
      "here\n",
      "here\n",
      "here\n",
      "here\n",
      "here\n",
      "here\n"
     ]
    },
    {
     "name": "stderr",
     "output_type": "stream",
     "text": [
      "/var/folders/th/b_mjqyv10_dcrv1zkmhlvjrr0000gn/T/ipykernel_33786/2533377475.py:17: DeprecationWarning: The default dtype for empty Series will be 'object' instead of 'float64' in a future version. Specify a dtype explicitly to silence this warning.\n",
      "  s = pd.Series(comments_exp, index=idx)\n"
     ]
    }
   ],
   "source": [
    "subredditList = targets\n",
    "\n",
    "os.chdir('..')\n",
    "cur_dir = os.getcwd()\n",
    "os.chdir(cur_dir + '/data')\n",
    "\n",
    "for subreddit in subredditList:\n",
    "    filename = str(subreddit) + '_comments.csv'\n",
    "    sub_file = os.getcwd() + '/' + str(subreddit) + '_posts.jsonl'\n",
    "    chunksize = 500\n",
    "    header = True\n",
    "    for chunk in pd.read_json(sub_file, lines=True, chunksize=chunksize):\n",
    "        temp = chunk['full_link'].apply(get_comments)\n",
    "        lens = temp.map(len)\n",
    "        idx = np.repeat(lens.index, lens.values)\n",
    "        comments_exp = list(itertools.chain.from_iterable(temp.values))\n",
    "        s = pd.Series(comments_exp, index=idx)\n",
    "        s.name = 'comment'\n",
    "        comments = chunk.join(s, how='inner')[['full_link', 'comment']].reset_index(drop=True)\n",
    "        comments.to_csv(filename, header=header, index=False, mode='a')\n",
    "        header = False"
   ]
  },
  {
   "cell_type": "code",
   "execution_count": 8,
   "id": "69669b1a-55c9-45ce-aab5-c64842e3f5fc",
   "metadata": {},
   "outputs": [
    {
     "data": {
      "text/plain": [
       "'https://www.reddit.com/r/progressive/comments/erziyz/under_pressure_from_activists_la_billionaires/'"
      ]
     },
     "execution_count": 8,
     "metadata": {},
     "output_type": "execute_result"
    }
   ],
   "source": [
    "ex = pd.read_csv(os.getcwd() + '/test2_comments.csv')\n",
    "ex['full_link'][0]"
   ]
  },
  {
   "cell_type": "code",
   "execution_count": null,
   "id": "96056362-4248-4204-85ca-43959527d5d2",
   "metadata": {},
   "outputs": [],
   "source": []
  }
 ],
 "metadata": {
  "kernelspec": {
   "display_name": "Python 3 (ipykernel)",
   "language": "python",
   "name": "python3"
  },
  "language_info": {
   "codemirror_mode": {
    "name": "ipython",
    "version": 3
   },
   "file_extension": ".py",
   "mimetype": "text/x-python",
   "name": "python",
   "nbconvert_exporter": "python",
   "pygments_lexer": "ipython3",
   "version": "3.9.7"
  }
 },
 "nbformat": 4,
 "nbformat_minor": 5
}
